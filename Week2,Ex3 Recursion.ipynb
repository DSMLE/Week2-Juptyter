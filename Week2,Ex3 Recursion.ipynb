{
 "cells": [
  {
   "cell_type": "code",
   "execution_count": 3,
   "id": "d7a5a272",
   "metadata": {},
   "outputs": [],
   "source": [
    "def fib_rec(n):\n",
    "    if n== 0:\n",
    "        return 0\n",
    "    elif n==1:\n",
    "        return 1\n",
    "    else: \n",
    "        return fib_rec(n-1) + fib_rec(n-2)"
   ]
  },
  {
   "cell_type": "markdown",
   "id": "be179e3b",
   "metadata": {},
   "source": [
    "fib_rec(5)"
   ]
  },
  {
   "cell_type": "markdown",
   "id": "f3fc101c",
   "metadata": {},
   "source": [
    "fib_rec(5) is the function call which returns the output.\n",
    "                     5\n",
    "                  4    3\n",
    "                3 2 1  2 1\n",
    "            2 1 1 0 1  1 0 1\n",
    "          1 0 1 1 0 1\n",
    "    the above tree shows the recursive call to the function until a base condition is reached.\n",
    "    In the above scenario, n=0 & n=1 are two base cases and fib_rec(n-1) + fib_rec(n-2) is the recursive call."
   ]
  },
  {
   "cell_type": "code",
   "execution_count": 6,
   "id": "fbe75d74",
   "metadata": {},
   "outputs": [
    {
     "name": "stdout",
     "output_type": "stream",
     "text": [
      "4.36 µs ± 252 ns per loop (mean ± std. dev. of 7 runs, 100000 loops each)\n"
     ]
    }
   ],
   "source": [
    "%%timeit\n",
    "fib_rec(5)"
   ]
  },
  {
   "cell_type": "code",
   "execution_count": 8,
   "id": "1654644a",
   "metadata": {},
   "outputs": [
    {
     "name": "stdout",
     "output_type": "stream",
     "text": [
      "66.2 ms ± 5.29 ms per loop (mean ± std. dev. of 7 runs, 10 loops each)\n"
     ]
    }
   ],
   "source": [
    "%%timeit\n",
    "fib_rec(25)"
   ]
  },
  {
   "cell_type": "markdown",
   "id": "1f7afec5",
   "metadata": {},
   "source": [
    "FACTORIAL"
   ]
  },
  {
   "cell_type": "code",
   "execution_count": 16,
   "id": "4f04a170",
   "metadata": {},
   "outputs": [],
   "source": [
    "def fact(n):\n",
    "    if n == 0 or n== 1:\n",
    "        return 1\n",
    "    else:\n",
    "        return (n * fact(n-1))"
   ]
  },
  {
   "cell_type": "code",
   "execution_count": 17,
   "id": "09bb4ff9",
   "metadata": {},
   "outputs": [
    {
     "data": {
      "text/plain": [
       "24"
      ]
     },
     "execution_count": 17,
     "metadata": {},
     "output_type": "execute_result"
    }
   ],
   "source": [
    "fact(4)"
   ]
  },
  {
   "cell_type": "code",
   "execution_count": 18,
   "id": "82bf8a83",
   "metadata": {},
   "outputs": [
    {
     "data": {
      "text/plain": [
       "120"
      ]
     },
     "execution_count": 18,
     "metadata": {},
     "output_type": "execute_result"
    }
   ],
   "source": [
    "fact(5)"
   ]
  },
  {
   "cell_type": "markdown",
   "id": "93534e80",
   "metadata": {},
   "source": [
    "factorial is recursive.\n",
    "n! = n(n-1)!\n",
    "ex:\n",
    "4! = 4 * 3!\n",
    "The fact function is called recursively until the base case is reached which is n=0 or 1.\n",
    "                        4!\n",
    "                       4  3!\n",
    "                      4  3  2!\n",
    "                      4  3  2  1!\n",
    "                      4 * 3* 2* 1\n",
    "                      24"
   ]
  },
  {
   "cell_type": "code",
   "execution_count": 19,
   "id": "83124722",
   "metadata": {},
   "outputs": [
    {
     "name": "stdout",
     "output_type": "stream",
     "text": [
      "2.08 µs ± 209 ns per loop (mean ± std. dev. of 7 runs, 100000 loops each)\n"
     ]
    }
   ],
   "source": [
    "%%timeit\n",
    "fact(7)"
   ]
  }
 ],
 "metadata": {
  "kernelspec": {
   "display_name": "Python 3",
   "language": "python",
   "name": "python3"
  },
  "language_info": {
   "codemirror_mode": {
    "name": "ipython",
    "version": 3
   },
   "file_extension": ".py",
   "mimetype": "text/x-python",
   "name": "python",
   "nbconvert_exporter": "python",
   "pygments_lexer": "ipython3",
   "version": "3.8.8"
  }
 },
 "nbformat": 4,
 "nbformat_minor": 5
}
